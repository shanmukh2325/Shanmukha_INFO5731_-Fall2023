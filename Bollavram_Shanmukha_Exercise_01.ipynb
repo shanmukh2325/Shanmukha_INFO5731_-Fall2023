{
  "cells": [
    {
      "cell_type": "markdown",
      "metadata": {
        "id": "view-in-github",
        "colab_type": "text"
      },
      "source": [
        "<a href=\"https://colab.research.google.com/github/shanmukh2325/Shanmukha_INFO5731_-Fall2023/blob/main/Bollavram_Shanmukha_Exercise_01.ipynb\" target=\"_parent\"><img src=\"https://colab.research.google.com/assets/colab-badge.svg\" alt=\"Open In Colab\"/></a>"
      ]
    },
    {
      "cell_type": "markdown",
      "metadata": {
        "id": "DymRJbxDBCnf"
      },
      "source": [
        "# **The first In-class-exercise (08/30/2023, 40 points in total)**\n",
        "This exercise is due tomorrow 08/31/203 11:59 PM.\n"
      ]
    },
    {
      "cell_type": "markdown",
      "metadata": {
        "id": "FBKvD6O_TY6e"
      },
      "source": [
        "(1) Write a Python program to calculate the area of a rectangle using user-input length and width."
      ]
    },
    {
      "cell_type": "code",
      "execution_count": 1,
      "metadata": {
        "id": "cikVKDXdTbzE",
        "colab": {
          "base_uri": "https://localhost:8080/"
        },
        "outputId": "f6ddfdbd-a1d3-46f1-dfd2-a9f59a273cf4"
      },
      "outputs": [
        {
          "output_type": "stream",
          "name": "stdout",
          "text": [
            "Enter the length of the rectangle: 5\n",
            "Enter the width of the rectangle: 6\n",
            "The area of the rectangle is  30.0\n"
          ]
        }
      ],
      "source": [
        "# write your answer here\n",
        "\n",
        "#getting length and width\n",
        "l = float(input(\"Enter the length of the rectangle: \"))\n",
        "w = float(input(\"Enter the width of the rectangle: \"))\n",
        "\n",
        "# Calculate the area of the rectangle\n",
        "a = l * w\n",
        "\n",
        "# Display the result\n",
        "print(\"The area of the rectangle is \", a)"
      ]
    },
    {
      "cell_type": "markdown",
      "metadata": {
        "id": "E9RqrlwdTfvl"
      },
      "source": [
        "(2) Create a program that takes two numbers from the user and swaps their values without using a temporary variable."
      ]
    },
    {
      "cell_type": "code",
      "execution_count": 2,
      "metadata": {
        "id": "4XvRknixTh1g",
        "scrolled": true,
        "colab": {
          "base_uri": "https://localhost:8080/"
        },
        "outputId": "7ec1de93-f25e-4a54-f888-dc42fb8fea65"
      },
      "outputs": [
        {
          "output_type": "stream",
          "name": "stdout",
          "text": [
            "Enter first number: 4\n",
            "Enter second number: 5\n",
            "First number: 5.0\n",
            "Second number: 4.0\n"
          ]
        }
      ],
      "source": [
        "# write your answer here\n",
        "\n",
        "# Get user input for the two numbers\n",
        "num1 = float(input(\"Enter first number: \"))\n",
        "num2 = float(input(\"Enter second number: \"))\n",
        "\n",
        "# Swapping without temporary variable\n",
        "num1 = num1 + num2\n",
        "num2 = num1 - num2\n",
        "num1 = num1 - num2\n",
        "\n",
        "# Display the swapped values\n",
        "print(\"First number:\", num1)\n",
        "print(\"Second number:\", num2)"
      ]
    },
    {
      "cell_type": "markdown",
      "metadata": {
        "id": "03jb4GZsBkBS"
      },
      "source": [
        "(3) Write a Python program to calculate the length of a string."
      ]
    },
    {
      "cell_type": "code",
      "execution_count": 3,
      "metadata": {
        "id": "YaGLbSHHB8Ej",
        "colab": {
          "base_uri": "https://localhost:8080/"
        },
        "outputId": "8455bf82-a056-4df0-ba0c-0c1e38a7e070"
      },
      "outputs": [
        {
          "output_type": "stream",
          "name": "stdout",
          "text": [
            "Enter a string: shanmukh\n",
            "The length of the string is: 8\n"
          ]
        }
      ],
      "source": [
        "# write your answer here\n",
        "\n",
        "# Get a string as input from the user\n",
        "input_string = input(\"Enter a string: \")\n",
        "\n",
        "# Calculate the length of the string using len function\n",
        "length = len(input_string)\n",
        "\n",
        "# Displaying the length\n",
        "print(\"The length of the string is:\", length)"
      ]
    },
    {
      "cell_type": "markdown",
      "metadata": {
        "id": "jJDe71iLB616"
      },
      "source": [
        "(4) Write a Python program to count the number of characters in a string.\n",
        "\n",
        "Sample String : 'google.com‘,\n",
        "\n",
        "Expected Result : {'o': 3, 'g': 2, '.': 1, 'e': 1, 'l': 1, 'm': 1, 'c': 1}"
      ]
    },
    {
      "cell_type": "code",
      "execution_count": 4,
      "metadata": {
        "id": "MtKskTzbCLaU",
        "colab": {
          "base_uri": "https://localhost:8080/"
        },
        "outputId": "24400117-291f-42bf-dd8c-1eb910064ad7"
      },
      "outputs": [
        {
          "output_type": "stream",
          "name": "stdout",
          "text": [
            "{'s': 1, 'h': 2, 'a': 1, 'n': 1, 'm': 1, 'u': 1, 'k': 1}\n"
          ]
        }
      ],
      "source": [
        "# write your answer here\n",
        "input_str = 'shanmukh'\n",
        "\n",
        "# Creating an empty dictionary to storing the character counts\n",
        "count = {}\n",
        "\n",
        "# Iterate  each character in the input_str\n",
        "for char in input_str:\n",
        "    # Check if the character is already in the dictionary or not\n",
        "    if char in count:\n",
        "        # If yes, increment the count value\n",
        "        count[char] += 1\n",
        "    else:\n",
        "        # If not, add the character to the dictionary with a count of 1\n",
        "        count[char] = 1\n",
        "\n",
        "# Display char count\n",
        "print(count)"
      ]
    },
    {
      "cell_type": "markdown",
      "metadata": {
        "id": "55W9AMdXCSpV"
      },
      "source": [
        "(5) Write a Python program to sum all the items in a list."
      ]
    },
    {
      "cell_type": "code",
      "execution_count": 5,
      "metadata": {
        "id": "I57NXsauCec2",
        "colab": {
          "base_uri": "https://localhost:8080/"
        },
        "outputId": "580c03f1-c709-4c9c-e52b-8170a6c5e4ba"
      },
      "outputs": [
        {
          "output_type": "stream",
          "name": "stdout",
          "text": [
            "The sum of all items in the list is: 264\n"
          ]
        }
      ],
      "source": [
        "# write your answer here\n",
        "\n",
        "list1 = [17, 28, 98, 43, 6,72]\n",
        "\n",
        "# Initialize total variable to store the sum\n",
        "total = 0\n",
        "\n",
        "# Iterate through the list and add each item to the total\n",
        "for i in list1:\n",
        "    total= total+i\n",
        "\n",
        "# Display the result\n",
        "print(\"The sum of all items in the list is:\", total)"
      ]
    },
    {
      "cell_type": "markdown",
      "metadata": {
        "id": "4ulBZ6yhCi9F"
      },
      "source": [
        "(6) Write a Python program to get a string from a given string where all occurrences of its first char have been changed to '\\$', except the first char itself.\n",
        "\n",
        "Sample String : 'restart‘,\n",
        "\n",
        "Expected Result : 'resta\\$t'"
      ]
    },
    {
      "cell_type": "code",
      "execution_count": 11,
      "metadata": {
        "id": "Fj0XhwbBCw2o",
        "colab": {
          "base_uri": "https://localhost:8080/"
        },
        "outputId": "b51cf9f0-f04e-43b2-d89d-3f415a4da317"
      },
      "outputs": [
        {
          "output_type": "stream",
          "name": "stdout",
          "text": [
            "The final result resta$t\n"
          ]
        }
      ],
      "source": [
        "def chang_first_char(sam_str):\n",
        "    fir_char= sam_str[0]\n",
        "    fin_str= fir_char+ sam_str[1:].replace(fir_char, \"$\")    #replacing the first cahr ele with $\n",
        "    print(\"The final result\", fin_str)       #prints the final result\n",
        "\n",
        "chang_first_char(\"restart\")"
      ]
    },
    {
      "cell_type": "markdown",
      "metadata": {
        "id": "qVXA3q7ET5JI"
      },
      "source": [
        "(7) Create a program that calculates the factorial of a number using a while loop."
      ]
    },
    {
      "cell_type": "code",
      "execution_count": 8,
      "metadata": {
        "id": "Lbt7R6UkT7BA",
        "colab": {
          "base_uri": "https://localhost:8080/"
        },
        "outputId": "b5aa16bf-b878-43a9-a7de-a55e2a2c52a7"
      },
      "outputs": [
        {
          "output_type": "stream",
          "name": "stdout",
          "text": [
            "Enter a number: 5\n",
            "The factorial of 5 is 120\n"
          ]
        }
      ],
      "source": [
        "# write your answer here\n",
        "\n",
        "num = int(input(\"Enter a number: \"))\n",
        "\n",
        "# Initialize variables\n",
        "fact = 1\n",
        "count = num\n",
        "\n",
        "# Calculate factorial using a while loop\n",
        "while count > 0:\n",
        "    fact *= count\n",
        "    count -= 1\n",
        "\n",
        "# Display the result\n",
        "print(f\"The factorial of {num} is {fact}\")"
      ]
    },
    {
      "cell_type": "markdown",
      "metadata": {
        "id": "6YfbzXMNT--R"
      },
      "source": [
        "(8) Create a program that takes a list of numbers as input and outputs a new list with only the even numbers."
      ]
    },
    {
      "cell_type": "code",
      "execution_count": 9,
      "metadata": {
        "id": "54q7wMQPUAKu",
        "colab": {
          "base_uri": "https://localhost:8080/"
        },
        "outputId": "c4aede1f-6ed5-4c59-bc78-08195e24c346"
      },
      "outputs": [
        {
          "output_type": "stream",
          "name": "stdout",
          "text": [
            "Enter a list: 5,7,10,20\n",
            "Even numbers in the list: [10, 20]\n"
          ]
        }
      ],
      "source": [
        "# write your answer here\n",
        "input_str = input(\"Enter a list: \")\n",
        "\n",
        "# Split the input string into a list of numbers\n",
        "nums = input_str.split(',')\n",
        "\n",
        "# Initialize an empty list to store even numbers\n",
        "even_nums = []\n",
        "\n",
        "# Iterate through the numbers and check for evenness\n",
        "for num in nums:\n",
        "    num = int(num.strip())  # Convert each number to an integer\n",
        "    if num % 2 == 0:\n",
        "        even_nums.append(num)\n",
        "\n",
        "# Display the list of even numbers\n",
        "print(\"Even numbers in the list:\", even_nums)"
      ]
    },
    {
      "cell_type": "markdown",
      "metadata": {
        "id": "_bIP7s1MCzue"
      },
      "source": [
        "(9) Write a program with python which could accept two parameter a and b to calculate and output the result of S, where\n",
        "\n",
        "$\\ S=3.14*(1+a/b)^3$\n",
        "\n"
      ]
    },
    {
      "cell_type": "code",
      "execution_count": 12,
      "metadata": {
        "id": "w79QilHXD3Mg",
        "colab": {
          "base_uri": "https://localhost:8080/"
        },
        "outputId": "b9232151-e3f9-4362-bf43-f135f0bce2c1"
      },
      "outputs": [
        {
          "output_type": "stream",
          "name": "stdout",
          "text": [
            "Enter  value of 'a': 5\n",
            "Enter value of 'b': 9\n",
            "11.819149519890262\n"
          ]
        }
      ],
      "source": [
        "# write your answer here\n",
        "\n",
        "# Get input for 'a' and 'b' from the user\n",
        "a = float(input(\"Enter  value of 'a': \"))\n",
        "b = float(input(\"Enter value of 'b': \"))\n",
        "\n",
        "# Calculate S\n",
        "S = 3.14 * (1 + a / b) ** 3\n",
        "\n",
        "# Display the result\n",
        "print(S)"
      ]
    },
    {
      "cell_type": "markdown",
      "metadata": {
        "id": "xCa2bK9aD4Q3"
      },
      "source": [
        "(10) Write a Python program to concatenate following dictionaries to create a new one.\n",
        "\n",
        "Sample Dictionary : dic1={1:10, 2:20}, dic2={3:30, 4:40}, dic3={5:50,6:60},\n",
        "\n",
        "Expected Result : {1: 10, 2: 20, 3: 30, 4: 40, 5: 50, 6: 60}\n"
      ]
    },
    {
      "cell_type": "code",
      "execution_count": 13,
      "metadata": {
        "id": "_z4aLqAbEET1",
        "colab": {
          "base_uri": "https://localhost:8080/"
        },
        "outputId": "6fdd1fea-d84e-44cf-e5c5-b1492c7345a5"
      },
      "outputs": [
        {
          "output_type": "stream",
          "name": "stdout",
          "text": [
            "{1: 10, 2: 20, 3: 30, 4: 40, 5: 50, 6: 60}\n"
          ]
        }
      ],
      "source": [
        "# write your answer here\n",
        "\n",
        "dic1 = {1: 10, 2: 20}\n",
        "dic2 = {3: 30, 4: 40}\n",
        "dic3 = {5: 50, 6: 60}\n",
        "\n",
        "# Create an empty dictionary to store the result\n",
        "final_res = {}\n",
        "\n",
        "# Concatenate the dictionaries using the update() method\n",
        "final_res.update(dic1)\n",
        "final_res.update(dic2)\n",
        "final_res.update(dic3)\n",
        "\n",
        "# Display the final result\n",
        "print(final_res)"
      ]
    },
    {
      "cell_type": "markdown",
      "metadata": {
        "id": "bkyZ2xSZUOst"
      },
      "source": [
        "(11) Write a Python function that accepts a tuple of integers and returns the largest and smallest elements."
      ]
    },
    {
      "cell_type": "code",
      "execution_count": 14,
      "metadata": {
        "id": "3FdLRBKOUQEd",
        "colab": {
          "base_uri": "https://localhost:8080/"
        },
        "outputId": "31350764-66c8-49cf-f8c6-802aa0bf3ef6"
      },
      "outputs": [
        {
          "output_type": "stream",
          "name": "stdout",
          "text": [
            "largest : 567\n",
            "smallest : 3\n"
          ]
        }
      ],
      "source": [
        "# write your answer here\n",
        "\n",
        "def code_l_s(inp):\n",
        "    # Return None for both largest and smallest if the tuple is empty\n",
        "    if len(inp) == 0:\n",
        "        return None, None\n",
        "\n",
        "    # Initialize largest and smallest with the first element\n",
        "    largest = smallest = inp[0]\n",
        "\n",
        "    for num in inp:\n",
        "        if num > largest:\n",
        "            largest = num\n",
        "        elif num < smallest:\n",
        "            smallest = num\n",
        "\n",
        "    return largest, smallest\n",
        "\n",
        "#sample tuple\n",
        "tup = (11, 50, 3, 5, 567, 93, 67)\n",
        "largest, smallest = code_l_s(tup)\n",
        "\n",
        "print(\"largest :\", largest)\n",
        "print(\"smallest :\", smallest)"
      ]
    },
    {
      "cell_type": "markdown",
      "metadata": {
        "id": "O0TVi3gKUTpp"
      },
      "source": [
        "(12) Write a Python program that counts the frequency of each character in a given string and stores it in a dictionary."
      ]
    },
    {
      "cell_type": "code",
      "execution_count": 15,
      "metadata": {
        "id": "lAtfSfZXUU-h",
        "colab": {
          "base_uri": "https://localhost:8080/"
        },
        "outputId": "144e5f5a-0cd5-4d42-b6a9-a19202d10582"
      },
      "outputs": [
        {
          "output_type": "stream",
          "name": "stdout",
          "text": [
            "{'s': 1, 'h': 2, 'a': 1, 'n': 1, 'm': 1, 'u': 1, 'k': 1}\n"
          ]
        }
      ],
      "source": [
        "# write your answer here\n",
        "\n",
        "def count_char(string):\n",
        "  \"\"\"Counts the frequency of each character in a given string and stores it in a dictionary.\"\"\"\n",
        "  char_count = {}\n",
        "  for char in string:\n",
        "    if char in char_count:\n",
        "      char_count[char] += 1\n",
        "    else:\n",
        "      char_count[char] = 1\n",
        "  return char_count\n",
        "\n",
        "\n",
        "string = \"shanmukh\"\n",
        "char_count = count_char(string)\n",
        "print(char_count)"
      ]
    },
    {
      "cell_type": "markdown",
      "metadata": {
        "id": "0v48Vqa7FrQh"
      },
      "source": [
        "(13) Write a Python program to check whether an element exists within a tuple."
      ]
    },
    {
      "cell_type": "code",
      "execution_count": 17,
      "metadata": {
        "id": "7WEmgq-DF2P1",
        "colab": {
          "base_uri": "https://localhost:8080/"
        },
        "outputId": "8effd811-5d65-4e1e-98ab-e075fcbe6b45"
      },
      "outputs": [
        {
          "output_type": "stream",
          "name": "stdout",
          "text": [
            "The element exists\n"
          ]
        }
      ],
      "source": [
        "# write your answer here\n",
        "\n",
        "#create a function to check\n",
        "def check_element_exists(tuple, element):\n",
        "  \"\"\"Checks whether an element exists within a tuple.\"\"\"\n",
        "  for ele in tuple:\n",
        "    if ele == element:\n",
        "      return True\n",
        "  return False\n",
        "\n",
        "#getting input tuple\n",
        "tuple = (41, 20, 35, 3, 5)\n",
        "#assigning a value to element to check\n",
        "element = 3\n",
        "\n",
        "if check_element_exists(tuple, element):\n",
        "  print(\"The element exists\")\n",
        "else:\n",
        "  print(\"The element does not exist\")"
      ]
    },
    {
      "cell_type": "markdown",
      "metadata": {
        "id": "vD5PYLMuGga_"
      },
      "source": [
        "(14) Write a Python program to find maximum and the minimum value in a set."
      ]
    },
    {
      "cell_type": "code",
      "execution_count": 18,
      "metadata": {
        "id": "t0D5kdJUGjjw",
        "colab": {
          "base_uri": "https://localhost:8080/"
        },
        "outputId": "d0ae6d51-5299-48d5-c685-f1727a0d8f31"
      },
      "outputs": [
        {
          "output_type": "stream",
          "name": "stdout",
          "text": [
            "88\n",
            "4\n"
          ]
        }
      ],
      "source": [
        "# write your answer here\n",
        "\n",
        "def max_min(set):\n",
        "  \"\"\"Finds the maximum and minimum value in a set.\"\"\"\n",
        "  max_value, min_value = set.pop(), set.pop()\n",
        "  for value in set:\n",
        "    if value > max_value:\n",
        "      max_value = value\n",
        "    elif value < min_value:\n",
        "      min_value = value\n",
        "  return max_value, min_value\n",
        "\n",
        "#creating a sampole set\n",
        "set = {17, 2, 13, 4, 71, 6, 27, 88, 9, 10}\n",
        "max_value, min_value =max_min(set)\n",
        "print(max_value)\n",
        "print(min_value)"
      ]
    },
    {
      "cell_type": "markdown",
      "metadata": {
        "id": "uHkd-y5VhVWC"
      },
      "source": [
        "(15) Write a Python program to randomly divide the students in this class into six groups for term projects, each group should have at least 4 students but no more than 6 students (including 6). Here is the students list:\n",
        "student_list_fall_2023=['sb1826' ,\n",
        " 'lb0582' ,\n",
        " 'ab1820' ,\n",
        " 'sb1883' ,\n",
        " 'mb1296' ,\n",
        " 'sc1622' ,\n",
        " 'tc0469' ,\n",
        " 'ac1770' ,\n",
        " 'mc1453' ,\n",
        " 'ad1187' ,\n",
        " 'sd0926' ,\n",
        " 'sd1268' ,\n",
        " 'ag1609' ,\n",
        " 'sg1638' ,\n",
        " 'mg1299' ,\n",
        " 'vkk0022' ,\n",
        " 'bk0413' ,\n",
        " 'gk0257' ,\n",
        " 'am2807' ,\n",
        " 'gm0558' ,\n",
        " 'pm0658' ,\n",
        " 'am2346' ,\n",
        " 'rm1090' ,\n",
        " 'sm2364' ,\n",
        " 'sm2747' ,\n",
        " 'sm2343' ,\n",
        " 'vm0597' ,\n",
        " 'htn0086' ,\n",
        " 'sp2075' ,\n",
        " 'gp0306' ,\n",
        " 'lp0502' ,\n",
        " 'sr1508' ,\n",
        " 'vr0331' ,\n",
        " 'yr0180' ,\n",
        " 'as2819' ,\n",
        " 'ss2981' ,\n",
        " 'ns0756' ,\n",
        " 'mt0825' ,\n",
        " 'dt0463' ,\n",
        " 'su0137' ,\n",
        " 'dv0310'\n",
        "]"
      ]
    },
    {
      "cell_type": "code",
      "execution_count": 23,
      "metadata": {
        "id": "3iGbmcOBhTwy",
        "colab": {
          "base_uri": "https://localhost:8080/"
        },
        "outputId": "d5a42ae9-f2c0-4b1e-9b5b-fb37b1dcae8f"
      },
      "outputs": [
        {
          "output_type": "stream",
          "name": "stdout",
          "text": [
            "The groups are:\n",
            "['mt0825', 'mc1453', 'ac1770', 'am2346', 'dv0310']\n",
            "['as2819', 'sp2075', 'bk0413', 'sc1622', 'tc0469']\n",
            "['dt0463', 'sr1508', 'sm2747', 'sm2364', 'htn0086']\n",
            "['sb1826', 'ns0756', 'gm0558', 'mg1299', 'vr0331']\n",
            "['pm0658', 'am2807', 'rm1090', 'ab1820', 'sd1268']\n",
            "['sb1883', 'vkk0022', 'lp0502', 'vm0597', 'ad1187']\n"
          ]
        }
      ],
      "source": [
        "# write your answer here\n",
        "\n",
        "#importing random function\n",
        "import random\n",
        "\n",
        "#defining the function to make random groups\n",
        "def groups(student_list, num_groups, min_students, max_students):\n",
        "#Randomly divides the students in the list into num_groups, each with at least min_students and no more than max_students.\n",
        "  g = []\n",
        "  student_list = list(student_list)\n",
        "  random.shuffle(student_list)\n",
        "\n",
        "  for i in range(num_groups):\n",
        "    group = []\n",
        "    for _ in range(min_students):\n",
        "      group.append(student_list.pop())\n",
        "\n",
        "    if student_list:\n",
        "      group.append(student_list.pop())\n",
        "\n",
        "    g.append(group)\n",
        "\n",
        "  return g\n",
        "\n",
        "#creating student list\n",
        "student_list_fall_2023 = [\n",
        "    'sb1826', 'lb0582', 'ab1820', 'sb1883', 'mb1296', 'sc1622', 'tc0469',\n",
        "    'ac1770', 'mc1453', 'ad1187', 'sd0926', 'sd1268', 'ag1609', 'sg1638',\n",
        "    'mg1299', 'vkk0022', 'bk0413', 'gk0257', 'am2807', 'gm0558', 'pm0658',\n",
        "    'am2346', 'rm1090', 'sm2364', 'sm2747', 'sm2343', 'vm0597', 'htn0086',\n",
        "    'sp2075', 'gp0306', 'lp0502', 'sr1508', 'vr0331', 'yr0180', 'as2819',\n",
        "    'ss2981', 'ns0756', 'mt0825', 'dt0463', 'su0137', 'dv0310'\n",
        "]\n",
        "\n",
        "num_groups = 6\n",
        "min_students = 4\n",
        "max_students = 6\n",
        "\n",
        "g = groups(student_list_fall_2023, num_groups, min_students, max_students)\n",
        "\n",
        "print(\"The groups are:\")\n",
        "for group in g:\n",
        "  print(group)"
      ]
    },
    {
      "cell_type": "markdown",
      "metadata": {
        "id": "fmZ9vX20Qs3d"
      },
      "source": [
        "(16) Write a Python program to find the duplicate elements in a given array of integers. Return -1 If there are no such elements."
      ]
    },
    {
      "cell_type": "code",
      "execution_count": 20,
      "metadata": {
        "id": "W8Jw6sWMQs3d",
        "colab": {
          "base_uri": "https://localhost:8080/"
        },
        "outputId": "7e26a02c-03a3-4240-c470-14b57840bc3a"
      },
      "outputs": [
        {
          "output_type": "stream",
          "name": "stdout",
          "text": [
            "Duplicate elements: [1, 3]\n"
          ]
        }
      ],
      "source": [
        "# write your answer here\n",
        "\n",
        "#defining function to check duplicates\n",
        "def duplicates(arr):\n",
        "    unique_values = []\n",
        "    duplicates = []\n",
        "\n",
        "    for num in arr:\n",
        "        if num not in unique_values:\n",
        "            unique_values.append(num)\n",
        "        else:\n",
        "            duplicates.append(num)\n",
        "\n",
        "    if not duplicates:\n",
        "        return -1\n",
        "    else:\n",
        "        return duplicates\n",
        "\n",
        "# Example input:\n",
        "input_arr = [1, 2, 3, 1, 4, 5, 6, 3, 7]\n",
        "result = duplicates(input_arr)\n",
        "\n",
        "if result == -1:\n",
        "    print(\"No duplicate elements found.\")\n",
        "else:\n",
        "    print(\"Duplicate elements:\", result)"
      ]
    },
    {
      "cell_type": "markdown",
      "metadata": {
        "id": "hvq4APMhQs3d"
      },
      "source": [
        "(17) Write a Python program to select all the Sundays of a specified year."
      ]
    },
    {
      "cell_type": "code",
      "execution_count": 21,
      "metadata": {
        "id": "ZnoxhSglQs3d",
        "colab": {
          "base_uri": "https://localhost:8080/"
        },
        "outputId": "fbbb1d6b-37b6-4f0f-b0d6-e89aa12ebf5b"
      },
      "outputs": [
        {
          "output_type": "stream",
          "name": "stdout",
          "text": [
            "The Sundays of year 2020 are:\n",
            "05/01/2020\n",
            "12/01/2020\n",
            "19/01/2020\n",
            "26/01/2020\n",
            "02/02/2020\n",
            "09/02/2020\n",
            "16/02/2020\n",
            "23/02/2020\n",
            "01/03/2020\n",
            "08/03/2020\n",
            "15/03/2020\n",
            "22/03/2020\n",
            "29/03/2020\n",
            "05/04/2020\n",
            "12/04/2020\n",
            "19/04/2020\n",
            "26/04/2020\n",
            "03/05/2020\n",
            "10/05/2020\n",
            "17/05/2020\n",
            "24/05/2020\n",
            "31/05/2020\n",
            "07/06/2020\n",
            "14/06/2020\n",
            "21/06/2020\n",
            "28/06/2020\n",
            "05/07/2020\n",
            "12/07/2020\n",
            "19/07/2020\n",
            "26/07/2020\n",
            "02/08/2020\n",
            "09/08/2020\n",
            "16/08/2020\n",
            "23/08/2020\n",
            "30/08/2020\n",
            "06/09/2020\n",
            "13/09/2020\n",
            "20/09/2020\n",
            "27/09/2020\n",
            "04/10/2020\n",
            "11/10/2020\n",
            "18/10/2020\n",
            "25/10/2020\n",
            "01/11/2020\n",
            "08/11/2020\n",
            "15/11/2020\n",
            "22/11/2020\n",
            "29/11/2020\n",
            "06/12/2020\n",
            "13/12/2020\n",
            "20/12/2020\n",
            "27/12/2020\n"
          ]
        }
      ],
      "source": [
        "# write your answer here\n",
        "\n",
        "\n",
        "#importing datetime function\n",
        "import datetime\n",
        "\n",
        "#defining the function to find sundays\n",
        "def find_sundays(year):\n",
        "\n",
        "  start_day = datetime.date(year, 1, 1)\n",
        "  end_day = datetime.date(year + 1, 1, 1)\n",
        "\n",
        "  sundays = []\n",
        "  for day in range(int((end_day - start_day).days)):\n",
        "    current_day = start_day + datetime.timedelta(days=day)\n",
        "    if current_day.weekday() == 6:\n",
        "      sundays.append(current_day.strftime(\"%d/%m/%Y\"))\n",
        "\n",
        "  return sundays\n",
        "\n",
        "\n",
        "year = 2020\n",
        "sundays = find_sundays(year)\n",
        "\n",
        "print(\"The Sundays of year\", year, \"are:\")\n",
        "for sunday in sundays:\n",
        "  print(sunday)"
      ]
    },
    {
      "cell_type": "markdown",
      "metadata": {
        "id": "55FWoSJPVVM6"
      },
      "source": [
        "(18) Build a program that calculates the factorial of a given positive integer. The factorial of a non-negative integer n is the product of all positive integers less than or equal to n."
      ]
    },
    {
      "cell_type": "code",
      "execution_count": 24,
      "metadata": {
        "id": "hwtr1wZmVX5A",
        "colab": {
          "base_uri": "https://localhost:8080/"
        },
        "outputId": "bc3262f5-2440-4cf7-d781-2cbf5c04fbae"
      },
      "outputs": [
        {
          "output_type": "stream",
          "name": "stdout",
          "text": [
            "Enter a positive integer: 5\n",
            "The factorial of 5 is 120\n"
          ]
        }
      ],
      "source": [
        "# write your answer here\n",
        "\n",
        "def factorial(n):\n",
        "    if n == 0 or n == 1:\n",
        "        return 1\n",
        "    else:\n",
        "        factorial = 1\n",
        "        for i in range(2, n + 1):\n",
        "            factorial *= i\n",
        "        return factorial\n",
        "\n",
        "# Get input from the user\n",
        "num = int(input(\"Enter a positive integer: \"))\n",
        "\n",
        "if num < 0:\n",
        "    print(\"Factorial is not defined for negative numbers.\")\n",
        "else:\n",
        "    result = factorial(num)\n",
        "    print(f\"The factorial of {num} is {result}\")"
      ]
    },
    {
      "cell_type": "markdown",
      "metadata": {
        "id": "Q9ecagcaVazW"
      },
      "source": [
        "(19) Write a program that takes a positive integer n as input and prints the count of even numbers from 1 to n. Use a loop to iterate through the numbers and utilize the break statement to optimize the loop."
      ]
    },
    {
      "cell_type": "code",
      "execution_count": 25,
      "metadata": {
        "id": "gycgckoAVZjR",
        "colab": {
          "base_uri": "https://localhost:8080/"
        },
        "outputId": "a86e5314-8df2-4b98-e818-7957ef716be3"
      },
      "outputs": [
        {
          "output_type": "stream",
          "name": "stdout",
          "text": [
            "Enter a positive integer: 9\n",
            "There are 4 even numbers from 1 to 9.\n"
          ]
        }
      ],
      "source": [
        "# write your answer here\n",
        "\n",
        "\n",
        "n = int(input(\"Enter a positive integer: \"))\n",
        "\n",
        "# Initialize a count\n",
        "count = 0\n",
        "\n",
        "# Iterate through numbers from 1 to n\n",
        "for num in range(1, n + 1):\n",
        "    if num % 2 == 0:\n",
        "        count += 1\n",
        "    elif num > n:\n",
        "        break\n",
        "\n",
        "# Display the result\n",
        "print(f\"There are {count} even numbers from 1 to {n}.\")"
      ]
    },
    {
      "cell_type": "markdown",
      "metadata": {
        "id": "cboAr5pEWUf5"
      },
      "source": [
        "(20) Write a Python function called count_vowels that takes a string as input and returns the count of vowels (both lowercase and uppercase) present in the string. Consider the vowels to be 'a', 'e', 'i', 'o', and 'u'. Ignore spaces and other non-alphabetic characters."
      ]
    },
    {
      "cell_type": "code",
      "execution_count": 26,
      "metadata": {
        "colab": {
          "base_uri": "https://localhost:8080/"
        },
        "id": "9pZIobXGaZFE",
        "outputId": "0275a316-5d0c-4243-98d8-56aeac6738bb"
      },
      "outputs": [
        {
          "output_type": "stream",
          "name": "stdout",
          "text": [
            "The number of vowels in the string is: 7\n"
          ]
        }
      ],
      "source": [
        "def count_vowels(input_string):\n",
        "    # Define a list of vowels (both lowercase and uppercase)\n",
        "    vowels = ['a', 'e', 'i', 'o', 'u', 'A', 'E', 'I', 'O', 'U']\n",
        "\n",
        "    # Initialize a count for vowels\n",
        "    vowel_count = 0\n",
        "\n",
        "    # Iterate through the characters in the input string\n",
        "    for char in input_string:\n",
        "        # Check if the character is a vowel and not a space or non-alphabetic character\n",
        "        if char in vowels and char.isalpha():\n",
        "            vowel_count += 1\n",
        "\n",
        "    return vowel_count\n",
        "\n",
        "# Test the function\n",
        "input_str = \"Hello, my name is Shanmukh\"\n",
        "result = count_vowels(input_str)\n",
        "print(f\"The number of vowels in the string is: {result}\")"
      ]
    },
    {
      "cell_type": "code",
      "execution_count": null,
      "metadata": {
        "id": "xQp6LAVSaZFE"
      },
      "outputs": [],
      "source": []
    }
  ],
  "metadata": {
    "colab": {
      "provenance": [],
      "include_colab_link": true
    },
    "kernelspec": {
      "display_name": "Python 3 (ipykernel)",
      "language": "python",
      "name": "python3"
    },
    "language_info": {
      "codemirror_mode": {
        "name": "ipython",
        "version": 3
      },
      "file_extension": ".py",
      "mimetype": "text/x-python",
      "name": "python",
      "nbconvert_exporter": "python",
      "pygments_lexer": "ipython3",
      "version": "3.9.13"
    }
  },
  "nbformat": 4,
  "nbformat_minor": 0
}