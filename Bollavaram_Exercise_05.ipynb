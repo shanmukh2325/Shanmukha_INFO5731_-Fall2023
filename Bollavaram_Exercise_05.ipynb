{
 "cells": [
  {
   "cell_type": "markdown",
   "metadata": {
    "id": "5SzQKXqen_fj"
   },
   "source": [
    "# **The fifth in-class-exercise (40 points in total, 4/18/2023)**"
   ]
  },
  {
   "cell_type": "markdown",
   "metadata": {
    "id": "_nGldl3Kn_fm"
   },
   "source": [
    "(20 points) The purpose of the question is to practice different machine learning algorithms for text classification as well as the performance evaluation. In addition, you are requried to conduct *10 fold cross validation (https://scikit-learn.org/stable/modules/cross_validation.html)* in the training.\n",
    "\n",
    "The dataset can be download from canvas. The dataset contains two files train data and test data for sentiment analysis in IMDB review, it has two categories: 1 represents positive and 0 represents negative. You need to split the training data into training and validate data (80% for training and 20% for validation, https://towardsdatascience.com/train-test-split-and-cross-validation-in-python-80b61beca4b6) and perform 10 fold cross validation while training the classifier. The final trained model was final evaluated on the test data.\n",
    "\n",
    "Algorithms:\n",
    "\n",
    "(1) MultinominalNB\n",
    "\n",
    "(2) SVM\n",
    "\n",
    "(3) KNN\n",
    "\n",
    "(4) Decision tree\n",
    "\n",
    "(5) Random Forest\n",
    "\n",
    "(6) XGBoost\n",
    "\n",
    "(7) Word2Vec\n",
    "\n",
    "(8) BERT\n",
    "\n",
    "Evaluation measurement:\n",
    "\n",
    "(1) Accuracy\n",
    "\n",
    "(2) Recall\n",
    "\n",
    "(3) Precison\n",
    "\n",
    "(4) F-1 score"
   ]
  },
  {
   "cell_type": "code",
   "execution_count": null,
   "metadata": {
    "colab": {
     "base_uri": "https://localhost:8080/"
    },
    "id": "68W7QMDmKy0w",
    "outputId": "ac866d5b-1176-4457-be6b-5605f686bba7"
   },
   "outputs": [
    {
     "name": "stdout",
     "output_type": "stream",
     "text": [
      "Requirement already satisfied: numpy in /usr/local/lib/python3.10/dist-packages (1.23.5)\n",
      "Requirement already satisfied: scikit-learn in /usr/local/lib/python3.10/dist-packages (1.2.2)\n",
      "Requirement already satisfied: pandas in /usr/local/lib/python3.10/dist-packages (1.5.3)\n",
      "Requirement already satisfied: nltk in /usr/local/lib/python3.10/dist-packages (3.8.1)\n",
      "Requirement already satisfied: gensim in /usr/local/lib/python3.10/dist-packages (4.3.2)\n",
      "Requirement already satisfied: xgboost in /usr/local/lib/python3.10/dist-packages (2.0.2)\n",
      "Requirement already satisfied: transformers in /usr/local/lib/python3.10/dist-packages (4.35.2)\n",
      "Requirement already satisfied: scipy>=1.3.2 in /usr/local/lib/python3.10/dist-packages (from scikit-learn) (1.11.3)\n",
      "Requirement already satisfied: joblib>=1.1.1 in /usr/local/lib/python3.10/dist-packages (from scikit-learn) (1.3.2)\n",
      "Requirement already satisfied: threadpoolctl>=2.0.0 in /usr/local/lib/python3.10/dist-packages (from scikit-learn) (3.2.0)\n",
      "Requirement already satisfied: python-dateutil>=2.8.1 in /usr/local/lib/python3.10/dist-packages (from pandas) (2.8.2)\n",
      "Requirement already satisfied: pytz>=2020.1 in /usr/local/lib/python3.10/dist-packages (from pandas) (2023.3.post1)\n",
      "Requirement already satisfied: click in /usr/local/lib/python3.10/dist-packages (from nltk) (8.1.7)\n",
      "Requirement already satisfied: regex>=2021.8.3 in /usr/local/lib/python3.10/dist-packages (from nltk) (2023.6.3)\n",
      "Requirement already satisfied: tqdm in /usr/local/lib/python3.10/dist-packages (from nltk) (4.66.1)\n",
      "Requirement already satisfied: smart-open>=1.8.1 in /usr/local/lib/python3.10/dist-packages (from gensim) (6.4.0)\n",
      "Requirement already satisfied: filelock in /usr/local/lib/python3.10/dist-packages (from transformers) (3.13.1)\n",
      "Requirement already satisfied: huggingface-hub<1.0,>=0.16.4 in /usr/local/lib/python3.10/dist-packages (from transformers) (0.19.3)\n",
      "Requirement already satisfied: packaging>=20.0 in /usr/local/lib/python3.10/dist-packages (from transformers) (23.2)\n",
      "Requirement already satisfied: pyyaml>=5.1 in /usr/local/lib/python3.10/dist-packages (from transformers) (6.0.1)\n",
      "Requirement already satisfied: requests in /usr/local/lib/python3.10/dist-packages (from transformers) (2.31.0)\n",
      "Requirement already satisfied: tokenizers<0.19,>=0.14 in /usr/local/lib/python3.10/dist-packages (from transformers) (0.15.0)\n",
      "Requirement already satisfied: safetensors>=0.3.1 in /usr/local/lib/python3.10/dist-packages (from transformers) (0.4.0)\n",
      "Requirement already satisfied: fsspec>=2023.5.0 in /usr/local/lib/python3.10/dist-packages (from huggingface-hub<1.0,>=0.16.4->transformers) (2023.6.0)\n",
      "Requirement already satisfied: typing-extensions>=3.7.4.3 in /usr/local/lib/python3.10/dist-packages (from huggingface-hub<1.0,>=0.16.4->transformers) (4.5.0)\n",
      "Requirement already satisfied: six>=1.5 in /usr/local/lib/python3.10/dist-packages (from python-dateutil>=2.8.1->pandas) (1.16.0)\n",
      "Requirement already satisfied: charset-normalizer<4,>=2 in /usr/local/lib/python3.10/dist-packages (from requests->transformers) (3.3.2)\n",
      "Requirement already satisfied: idna<4,>=2.5 in /usr/local/lib/python3.10/dist-packages (from requests->transformers) (3.4)\n",
      "Requirement already satisfied: urllib3<3,>=1.21.1 in /usr/local/lib/python3.10/dist-packages (from requests->transformers) (2.0.7)\n",
      "Requirement already satisfied: certifi>=2017.4.17 in /usr/local/lib/python3.10/dist-packages (from requests->transformers) (2023.7.22)\n"
     ]
    }
   ],
   "source": [
    "pip install numpy scikit-learn pandas nltk gensim xgboost transformers"
   ]
  },
  {
   "cell_type": "code",
   "execution_count": null,
   "metadata": {
    "colab": {
     "base_uri": "https://localhost:8080/"
    },
    "id": "Qb5VG9AqSiyS",
    "outputId": "64d32307-c170-44c3-b2c9-4f41ad443691"
   },
   "outputs": [
    {
     "name": "stderr",
     "output_type": "stream",
     "text": [
      "<ipython-input-45-e91bb65a8320>:19: ParserWarning: Falling back to the 'python' engine because the 'c' engine does not support regex separators (separators > 1 char and different from '\\s+' are interpreted as regex); you can avoid this warning by specifying engine='python'.\n",
      "  train_data = pd.read_csv('stsa-train.txt', sep='delimiter=', header=None, names=['reviews'])\n",
      "<ipython-input-45-e91bb65a8320>:20: FutureWarning: In a future version of pandas all arguments of StringMethods.split except for the argument 'pat' will be keyword-only.\n",
      "  train_data[['sentiment', 'reviews']] = train_data['reviews'].str.split(\" \", 1, expand=True)\n",
      "<ipython-input-45-e91bb65a8320>:22: ParserWarning: Falling back to the 'python' engine because the 'c' engine does not support regex separators (separators > 1 char and different from '\\s+' are interpreted as regex); you can avoid this warning by specifying engine='python'.\n",
      "  test_data = pd.read_csv('stsa-test.txt', sep='delimiter=', header=None, names=['reviews'])\n",
      "<ipython-input-45-e91bb65a8320>:23: FutureWarning: In a future version of pandas all arguments of StringMethods.split except for the argument 'pat' will be keyword-only.\n",
      "  test_data[['sentiment', 'reviews']] = test_data['reviews'].str.split(\" \", 1, expand=True)\n",
      "[nltk_data] Downloading package stopwords to /root/nltk_data...\n",
      "[nltk_data]   Package stopwords is already up-to-date!\n",
      "[nltk_data] Downloading package wordnet to /root/nltk_data...\n",
      "[nltk_data]   Package wordnet is already up-to-date!\n",
      "/usr/local/lib/python3.10/dist-packages/sklearn/base.py:439: UserWarning: X does not have valid feature names, but MultinomialNB was fitted with feature names\n",
      "  warnings.warn(\n"
     ]
    },
    {
     "name": "stdout",
     "output_type": "stream",
     "text": [
      "Accuracy: 80.12%\n",
      "              precision    recall  f1-score   support\n",
      "\n",
      "           0       0.86      0.72      0.78       912\n",
      "           1       0.76      0.88      0.82       909\n",
      "\n",
      "    accuracy                           0.80      1821\n",
      "   macro avg       0.81      0.80      0.80      1821\n",
      "weighted avg       0.81      0.80      0.80      1821\n",
      "\n",
      "Cross-Validation Mean Score: 72.43%\n"
     ]
    },
    {
     "name": "stderr",
     "output_type": "stream",
     "text": [
      "/usr/local/lib/python3.10/dist-packages/sklearn/base.py:439: UserWarning: X does not have valid feature names, but LinearSVC was fitted with feature names\n",
      "  warnings.warn(\n"
     ]
    },
    {
     "name": "stdout",
     "output_type": "stream",
     "text": [
      "Accuracy: 79.63%\n",
      "              precision    recall  f1-score   support\n",
      "\n",
      "           0       0.82      0.77      0.79       912\n",
      "           1       0.78      0.83      0.80       909\n",
      "\n",
      "    accuracy                           0.80      1821\n",
      "   macro avg       0.80      0.80      0.80      1821\n",
      "weighted avg       0.80      0.80      0.80      1821\n",
      "\n",
      "Cross-Validation Mean Score: 70.84%\n"
     ]
    },
    {
     "name": "stderr",
     "output_type": "stream",
     "text": [
      "/usr/local/lib/python3.10/dist-packages/sklearn/base.py:439: UserWarning: X does not have valid feature names, but KNeighborsClassifier was fitted with feature names\n",
      "  warnings.warn(\n"
     ]
    },
    {
     "name": "stdout",
     "output_type": "stream",
     "text": [
      "Accuracy: 49.75%\n",
      "              precision    recall  f1-score   support\n",
      "\n",
      "           0       0.50      0.71      0.58       912\n",
      "           1       0.49      0.29      0.37       909\n",
      "\n",
      "    accuracy                           0.50      1821\n",
      "   macro avg       0.50      0.50      0.47      1821\n",
      "weighted avg       0.50      0.50      0.47      1821\n",
      "\n",
      "Cross-Validation Mean Score: 52.61%\n"
     ]
    },
    {
     "name": "stderr",
     "output_type": "stream",
     "text": [
      "/usr/local/lib/python3.10/dist-packages/sklearn/base.py:439: UserWarning: X does not have valid feature names, but DecisionTreeClassifier was fitted with feature names\n",
      "  warnings.warn(\n"
     ]
    },
    {
     "name": "stdout",
     "output_type": "stream",
     "text": [
      "Accuracy: 66.23%\n",
      "              precision    recall  f1-score   support\n",
      "\n",
      "           0       0.65      0.69      0.67       912\n",
      "           1       0.67      0.63      0.65       909\n",
      "\n",
      "    accuracy                           0.66      1821\n",
      "   macro avg       0.66      0.66      0.66      1821\n",
      "weighted avg       0.66      0.66      0.66      1821\n",
      "\n",
      "Cross-Validation Mean Score: 63.54%\n"
     ]
    },
    {
     "name": "stderr",
     "output_type": "stream",
     "text": [
      "/usr/local/lib/python3.10/dist-packages/sklearn/base.py:439: UserWarning: X does not have valid feature names, but RandomForestClassifier was fitted with feature names\n",
      "  warnings.warn(\n"
     ]
    },
    {
     "name": "stdout",
     "output_type": "stream",
     "text": [
      "Accuracy: 74.90%\n",
      "              precision    recall  f1-score   support\n",
      "\n",
      "           0       0.74      0.77      0.75       912\n",
      "           1       0.76      0.73      0.74       909\n",
      "\n",
      "    accuracy                           0.75      1821\n",
      "   macro avg       0.75      0.75      0.75      1821\n",
      "weighted avg       0.75      0.75      0.75      1821\n",
      "\n",
      "Cross-Validation Mean Score: 66.83%\n",
      "Accuracy: 50.08%\n",
      "              precision    recall  f1-score   support\n",
      "\n",
      "           0       0.50      1.00      0.67       912\n",
      "           1       0.00      0.00      0.00       909\n",
      "\n",
      "    accuracy                           0.50      1821\n",
      "   macro avg       0.25      0.50      0.33      1821\n",
      "weighted avg       0.25      0.50      0.33      1821\n",
      "\n"
     ]
    },
    {
     "name": "stderr",
     "output_type": "stream",
     "text": [
      "/usr/local/lib/python3.10/dist-packages/sklearn/metrics/_classification.py:1344: UndefinedMetricWarning: Precision and F-score are ill-defined and being set to 0.0 in labels with no predicted samples. Use `zero_division` parameter to control this behavior.\n",
      "  _warn_prf(average, modifier, msg_start, len(result))\n",
      "/usr/local/lib/python3.10/dist-packages/sklearn/metrics/_classification.py:1344: UndefinedMetricWarning: Precision and F-score are ill-defined and being set to 0.0 in labels with no predicted samples. Use `zero_division` parameter to control this behavior.\n",
      "  _warn_prf(average, modifier, msg_start, len(result))\n",
      "/usr/local/lib/python3.10/dist-packages/sklearn/metrics/_classification.py:1344: UndefinedMetricWarning: Precision and F-score are ill-defined and being set to 0.0 in labels with no predicted samples. Use `zero_division` parameter to control this behavior.\n",
      "  _warn_prf(average, modifier, msg_start, len(result))\n"
     ]
    },
    {
     "name": "stdout",
     "output_type": "stream",
     "text": [
      "Cross-Validation Mean Score: 65.19%\n"
     ]
    }
   ],
   "source": [
    "import pandas as pd\n",
    "import nltk\n",
    "import re\n",
    "import string\n",
    "from nltk.corpus import stopwords\n",
    "from nltk.stem import WordNetLemmatizer\n",
    "from sklearn.feature_extraction.text import TfidfVectorizer\n",
    "from sklearn.model_selection import train_test_split, cross_val_score\n",
    "from sklearn.naive_bayes import MultinomialNB\n",
    "from sklearn.svm import LinearSVC\n",
    "from sklearn.neighbors import KNeighborsClassifier\n",
    "from sklearn.tree import DecisionTreeClassifier\n",
    "from sklearn.ensemble import RandomForestClassifier\n",
    "from xgboost import XGBClassifier\n",
    "from sklearn.metrics import accuracy_score, classification_report\n",
    "from sklearn.preprocessing import LabelEncoder\n",
    "\n",
    "# Load train and test data\n",
    "train_data = pd.read_csv('stsa-train.txt', sep='delimiter=', header=None, names=['reviews'])\n",
    "train_data[['sentiment', 'reviews']] = train_data['reviews'].str.split(\" \", 1, expand=True)\n",
    "\n",
    "test_data = pd.read_csv('stsa-test.txt', sep='delimiter=', header=None, names=['reviews'])\n",
    "test_data[['sentiment', 'reviews']] = test_data['reviews'].str.split(\" \", 1, expand=True)\n",
    "\n",
    "# Data cleaning\n",
    "nltk.download('stopwords')\n",
    "nltk.download('wordnet')\n",
    "stopword = stopwords.words('english')\n",
    "wl = WordNetLemmatizer()\n",
    "\n",
    "def clean(review):\n",
    "    review = \"\".join([word.lower() for word in review if word not in string.punctuation])\n",
    "    review = re.sub(\"^\\d+\\s|\\s\\d+\\s|\\s\\d+$\", \" \", review)\n",
    "    tokens = re.split('\\W+', review)\n",
    "    review = [wl.lemmatize(word) for word in tokens if word not in stopword]\n",
    "    return ' '.join(review)\n",
    "\n",
    "train_data['clean_reviews'] = train_data['reviews'].apply(clean)\n",
    "test_data['clean_reviews'] = test_data['reviews'].apply(clean)\n",
    "\n",
    "# Convert 'sentiment' to numerical format\n",
    "label_encoder = LabelEncoder()\n",
    "train_data['sentiment'] = label_encoder.fit_transform(train_data['sentiment'])\n",
    "test_data['sentiment'] = label_encoder.transform(test_data['sentiment'])\n",
    "\n",
    "# TF-IDF Vectorization\n",
    "tfidf_vect = TfidfVectorizer()\n",
    "X_tfidf = tfidf_vect.fit_transform(train_data['clean_reviews'])\n",
    "X_tfidf_df = pd.DataFrame(X_tfidf.toarray(), columns=tfidf_vect.get_feature_names_out())\n",
    "\n",
    "X_test_tfidf = tfidf_vect.transform(test_data['clean_reviews'])\n",
    "\n",
    "# Model training and evaluation\n",
    "def evaluate_model(model, X_train, y_train, X_test, y_test, cv=10):\n",
    "    model.fit(X_train, y_train)\n",
    "    y_pred = model.predict(X_test)\n",
    "\n",
    "    print('Accuracy: {:.2f}%'.format(accuracy_score(y_test, y_pred) * 100))\n",
    "    print(classification_report(y_test, y_pred))\n",
    "\n",
    "    # Cross-validation scores\n",
    "    scores = cross_val_score(model, X_test, y_test, cv=cv)\n",
    "    print(\"Cross-Validation Mean Score: {:.2f}%\".format(scores.mean() * 100))\n",
    "\n",
    "# Multinomial Naive Bayes\n",
    "mnb = MultinomialNB()\n",
    "evaluate_model(mnb, X_tfidf_df, train_data['sentiment'], X_test_tfidf, test_data['sentiment'])\n",
    "\n",
    "# Linear Support Vector Machine\n",
    "svm = LinearSVC()\n",
    "evaluate_model(svm, X_tfidf_df, train_data['sentiment'], X_test_tfidf, test_data['sentiment'])\n",
    "\n",
    "# K-Nearest Neighbors\n",
    "knn = KNeighborsClassifier(n_neighbors=5, n_jobs=-1)\n",
    "evaluate_model(knn, X_tfidf_df, train_data['sentiment'], X_test_tfidf, test_data['sentiment'])\n",
    "\n",
    "# Decision Tree\n",
    "dt = DecisionTreeClassifier()\n",
    "evaluate_model(dt, X_tfidf_df, train_data['sentiment'], X_test_tfidf, test_data['sentiment'])\n",
    "\n",
    "# Random Forest\n",
    "rf = RandomForestClassifier()\n",
    "evaluate_model(rf, X_tfidf_df, train_data['sentiment'], X_test_tfidf, test_data['sentiment'])\n",
    "\n",
    "# XGBoost\n",
    "xgb = XGBClassifier()\n",
    "evaluate_model(xgb, X_tfidf_df, train_data['sentiment'], X_test_tfidf, test_data['sentiment'])"
   ]
  },
  {
   "cell_type": "markdown",
   "metadata": {
    "id": "wqHIVJ-zn_fp"
   },
   "source": [
    "(20 points) The purpose of the question is to practice different machine learning algorithms for text clustering\n",
    "Please downlad the dataset by using the following link.  https://www.kaggle.com/PromptCloudHQ/amazon-reviews-unlocked-mobile-phones\n",
    "(You can also use different text data which you want)\n",
    "\n",
    "Apply the listed clustering methods to the dataset:\n",
    "\n",
    "K-means\n",
    "\n",
    "DBSCAN\n",
    "\n",
    "Hierarchical clustering\n",
    "\n",
    "Word2Vec\n",
    "\n",
    "BERT\n",
    "\n",
    "You can refer to of the codes from  the follwing link below.\n",
    "https://www.kaggle.com/karthik3890/text-clustering"
   ]
  },
  {
   "cell_type": "code",
   "execution_count": 2,
   "metadata": {
    "id": "okxSvvqYn_fp"
   },
   "outputs": [],
   "source": [
    "import pandas as pd\n",
    "df = pd.read_csv('Amazon_Unlocked_Mobile.csv')"
   ]
  },
  {
   "cell_type": "code",
   "execution_count": 3,
   "metadata": {},
   "outputs": [
    {
     "name": "stderr",
     "output_type": "stream",
     "text": [
      "[nltk_data] Downloading package stopwords to\n",
      "[nltk_data]     /Users/shanmukhanadhareddybollavaram/nltk_data...\n",
      "[nltk_data]   Package stopwords is already up-to-date!\n",
      "[nltk_data] Downloading package wordnet to\n",
      "[nltk_data]     /Users/shanmukhanadhareddybollavaram/nltk_data...\n",
      "[nltk_data]   Package wordnet is already up-to-date!\n",
      "[nltk_data] Downloading package omw-1.4 to\n",
      "[nltk_data]     /Users/shanmukhanadhareddybollavaram/nltk_data...\n",
      "[nltk_data]   Package omw-1.4 is already up-to-date!\n"
     ]
    },
    {
     "data": {
      "text/plain": [
       "True"
      ]
     },
     "execution_count": 3,
     "metadata": {},
     "output_type": "execute_result"
    }
   ],
   "source": [
    "import nltk\n",
    "\n",
    "nltk.download('stopwords')\n",
    "nltk.download('wordnet')\n",
    "nltk.download('omw-1.4')"
   ]
  },
  {
   "cell_type": "code",
   "execution_count": 4,
   "metadata": {
    "colab": {
     "base_uri": "https://localhost:8080/",
     "height": 306
    },
    "id": "15H9CtTwkms4",
    "outputId": "6cb2ab5f-2795-4a1d-816f-67ab5b71b951"
   },
   "outputs": [
    {
     "name": "stderr",
     "output_type": "stream",
     "text": [
      "[nltk_data] Downloading package stopwords to\n",
      "[nltk_data]     /Users/shanmukhanadhareddybollavaram/nltk_data...\n",
      "[nltk_data]   Package stopwords is already up-to-date!\n",
      "[nltk_data] Downloading package wordnet to\n",
      "[nltk_data]     /Users/shanmukhanadhareddybollavaram/nltk_data...\n",
      "[nltk_data]   Package wordnet is already up-to-date!\n",
      "/var/folders/y2/1ryhhhy96d560tbg4y234c380000gn/T/ipykernel_81331/2808919937.py:11: FutureWarning: The default value of regex will change from True to False in a future version.\n",
      "  df['Reviews'] = df['Reviews'].str.replace('[^\\w\\s]','')\n"
     ]
    },
    {
     "data": {
      "text/html": [
       "<div>\n",
       "<style scoped>\n",
       "    .dataframe tbody tr th:only-of-type {\n",
       "        vertical-align: middle;\n",
       "    }\n",
       "\n",
       "    .dataframe tbody tr th {\n",
       "        vertical-align: top;\n",
       "    }\n",
       "\n",
       "    .dataframe thead th {\n",
       "        text-align: right;\n",
       "    }\n",
       "</style>\n",
       "<table border=\"1\" class=\"dataframe\">\n",
       "  <thead>\n",
       "    <tr style=\"text-align: right;\">\n",
       "      <th></th>\n",
       "      <th>Product Name</th>\n",
       "      <th>Brand Name</th>\n",
       "      <th>Price</th>\n",
       "      <th>Rating</th>\n",
       "      <th>Reviews</th>\n",
       "      <th>Review Votes</th>\n",
       "    </tr>\n",
       "  </thead>\n",
       "  <tbody>\n",
       "    <tr>\n",
       "      <th>0</th>\n",
       "      <td>\"CLEAR CLEAN ESN\" Sprint EPIC 4G Galaxy SPH-D7...</td>\n",
       "      <td>Samsung</td>\n",
       "      <td>199.99</td>\n",
       "      <td>5</td>\n",
       "      <td>feel lucky found used phone u used hard phone ...</td>\n",
       "      <td>1.0</td>\n",
       "    </tr>\n",
       "    <tr>\n",
       "      <th>1</th>\n",
       "      <td>\"CLEAR CLEAN ESN\" Sprint EPIC 4G Galaxy SPH-D7...</td>\n",
       "      <td>Samsung</td>\n",
       "      <td>199.99</td>\n",
       "      <td>4</td>\n",
       "      <td>nice phone nice grade pantach revue clean set ...</td>\n",
       "      <td>0.0</td>\n",
       "    </tr>\n",
       "    <tr>\n",
       "      <th>2</th>\n",
       "      <td>\"CLEAR CLEAN ESN\" Sprint EPIC 4G Galaxy SPH-D7...</td>\n",
       "      <td>Samsung</td>\n",
       "      <td>199.99</td>\n",
       "      <td>5</td>\n",
       "      <td>pleased</td>\n",
       "      <td>0.0</td>\n",
       "    </tr>\n",
       "    <tr>\n",
       "      <th>3</th>\n",
       "      <td>\"CLEAR CLEAN ESN\" Sprint EPIC 4G Galaxy SPH-D7...</td>\n",
       "      <td>Samsung</td>\n",
       "      <td>199.99</td>\n",
       "      <td>4</td>\n",
       "      <td>work good go slow sometimes good phone love</td>\n",
       "      <td>0.0</td>\n",
       "    </tr>\n",
       "    <tr>\n",
       "      <th>4</th>\n",
       "      <td>\"CLEAR CLEAN ESN\" Sprint EPIC 4G Galaxy SPH-D7...</td>\n",
       "      <td>Samsung</td>\n",
       "      <td>199.99</td>\n",
       "      <td>4</td>\n",
       "      <td>great phone replace lost phone thing volume bu...</td>\n",
       "      <td>0.0</td>\n",
       "    </tr>\n",
       "  </tbody>\n",
       "</table>\n",
       "</div>"
      ],
      "text/plain": [
       "                                        Product Name Brand Name   Price  \\\n",
       "0  \"CLEAR CLEAN ESN\" Sprint EPIC 4G Galaxy SPH-D7...    Samsung  199.99   \n",
       "1  \"CLEAR CLEAN ESN\" Sprint EPIC 4G Galaxy SPH-D7...    Samsung  199.99   \n",
       "2  \"CLEAR CLEAN ESN\" Sprint EPIC 4G Galaxy SPH-D7...    Samsung  199.99   \n",
       "3  \"CLEAR CLEAN ESN\" Sprint EPIC 4G Galaxy SPH-D7...    Samsung  199.99   \n",
       "4  \"CLEAR CLEAN ESN\" Sprint EPIC 4G Galaxy SPH-D7...    Samsung  199.99   \n",
       "\n",
       "   Rating                                            Reviews  Review Votes  \n",
       "0       5  feel lucky found used phone u used hard phone ...           1.0  \n",
       "1       4  nice phone nice grade pantach revue clean set ...           0.0  \n",
       "2       5                                            pleased           0.0  \n",
       "3       4        work good go slow sometimes good phone love           0.0  \n",
       "4       4  great phone replace lost phone thing volume bu...           0.0  "
      ]
     },
     "execution_count": 4,
     "metadata": {},
     "output_type": "execute_result"
    }
   ],
   "source": [
    "# Cleaning the data before beginning clustering\n",
    "#lower casing\n",
    "import nltk\n",
    "from nltk.corpus import stopwords\n",
    "nltk.download('stopwords')\n",
    "stop = stopwords.words('english')\n",
    "from textblob import Word\n",
    "nltk.download('wordnet')\n",
    "\n",
    "df['Reviews'] = df['Reviews'].apply(lambda x: \" \".join(x.lower() for x in str(x).split()))\n",
    "df['Reviews'] = df['Reviews'].str.replace('[^\\w\\s]','')\n",
    "df['Reviews'] = df['Reviews'].apply(lambda x: \" \".join(x for x in x.split() if x not in stop))\n",
    "df['Reviews'] = df['Reviews'].apply(lambda x: \" \".join([Word(word).lemmatize() for word in x.split()]))\n",
    "df.head()"
   ]
  },
  {
   "cell_type": "code",
   "execution_count": 5,
   "metadata": {
    "id": "WVTAy2OtlOBT"
   },
   "outputs": [
    {
     "name": "stderr",
     "output_type": "stream",
     "text": [
      "/Users/shanmukhanadhareddybollavaram/opt/anaconda3/lib/python3.9/site-packages/sklearn/cluster/_kmeans.py:1416: FutureWarning: The default value of `n_init` will change from 10 to 'auto' in 1.4. Set the value of `n_init` explicitly to suppress the warning\n",
      "  super()._check_params_vs_input(X, default_n_init=10)\n"
     ]
    },
    {
     "name": "stdout",
     "output_type": "stream",
     "text": [
      "Counter({0: 188259, 5: 155093, 4: 17173, 6: 15716, 2: 11567, 1: 10001, 7: 6622, 3: 5746, 8: 3663})\n"
     ]
    }
   ],
   "source": [
    "from sklearn.feature_extraction.text import TfidfVectorizer\n",
    "\n",
    "# Create the vectorizer\n",
    "tfidf_vect = TfidfVectorizer()\n",
    "\n",
    "# Fit the vectorizer on the reviews\n",
    "tfidf_vects = tfidf_vect.fit_transform(df['Reviews'].values.astype('U'))\n",
    "\n",
    "# Get the feature names from the vocabulary\n",
    "feature_names = tfidf_vect.vocabulary_.keys()\n",
    "\n",
    "# Form 9 clusters\n",
    "from sklearn.cluster import KMeans\n",
    "model = KMeans(n_clusters=9, init='k-means++', max_iter=10000, random_state=50)\n",
    "model.fit(tfidf_vects)\n",
    "from collections import Counter\n",
    "print(Counter(model.labels_))\n"
   ]
  },
  {
   "cell_type": "code",
   "execution_count": 6,
   "metadata": {},
   "outputs": [
    {
     "name": "stdout",
     "output_type": "stream",
     "text": [
      "Cluster 1\n",
      "Top Words: ['sohopes', 'one2', 'pros3gfm', 'wir', '271i', 's12', 'exchangenews']\n",
      "Cluster 2\n",
      "Top Words: ['assurants', 'exchangenews', 's12', 'experienceabout', 'fastoverall', 'sohopes', 'lte2g']\n",
      "Cluster 3\n",
      "Top Words: ['tabbed', 'pros3gfm', 'exchangenews', '62314', 'overexposure', 'one2', '622011']\n",
      "Cluster 4\n",
      "Top Words: ['pocketspurses', '62314', 'sohopes', 'nonmiracast', 'exchangenews', 'assurants', 'sucessfully']\n",
      "Cluster 5\n",
      "Top Words: ['one2', 'exchangenews', 'pros3gfm', 'fondo', 'sohopes', 'mostif', 'sucessfully']\n",
      "Cluster 6\n",
      "Top Words: ['exchangenews', 's12', 'noteit', 'sohopes', 'one2', 'soto', '271i']\n",
      "Cluster 7\n",
      "Top Words: ['s12', 'exchangenews', 'sohopes', 'pros3gfm', 'fondo', '62314', 'issueforgot']\n",
      "Cluster 8\n",
      "Top Words: ['ithellothank', 'interaccion', 'qualitycapability', 'iem', 'requestpros', 'samsumg', 'nonameexpressversand']\n",
      "Cluster 9\n",
      "Top Words: ['hellothank', 'pros3gfm', 'exchangenews', 'one2', 'sucessfully', '622011', 'removaleto']\n"
     ]
    }
   ],
   "source": [
    "# Convert dict_keys to list\n",
    "feature_names_list = list(feature_names)\n",
    "\n",
    "top_words = 7\n",
    "centroids = model.cluster_centers_.argsort()[:, ::-1]\n",
    "for cluster_num in range(9):\n",
    "    # Use list indexing instead of get method\n",
    "    key_features = [feature_names_list[i] for i in centroids[cluster_num, :top_words]]\n",
    "    print('Cluster ' + str(cluster_num + 1))\n",
    "    print('Top Words:', key_features)"
   ]
  },
  {
   "cell_type": "code",
   "execution_count": 7,
   "metadata": {},
   "outputs": [
    {
     "data": {
      "text/plain": [
       "array([[3.18484955e-06, 5.31183104e-06, 5.63316756e-06, ...,\n",
       "        5.21004097e-06, 1.86842489e-06, 4.15702163e-06],\n",
       "       [0.00000000e+00, 0.00000000e+00, 0.00000000e+00, ...,\n",
       "        0.00000000e+00, 0.00000000e+00, 0.00000000e+00],\n",
       "       [0.00000000e+00, 0.00000000e+00, 0.00000000e+00, ...,\n",
       "        0.00000000e+00, 0.00000000e+00, 0.00000000e+00],\n",
       "       ...,\n",
       "       [0.00000000e+00, 0.00000000e+00, 0.00000000e+00, ...,\n",
       "        0.00000000e+00, 0.00000000e+00, 0.00000000e+00],\n",
       "       [0.00000000e+00, 0.00000000e+00, 0.00000000e+00, ...,\n",
       "        0.00000000e+00, 0.00000000e+00, 0.00000000e+00],\n",
       "       [0.00000000e+00, 0.00000000e+00, 0.00000000e+00, ...,\n",
       "        0.00000000e+00, 0.00000000e+00, 0.00000000e+00]])"
      ]
     },
     "execution_count": 7,
     "metadata": {},
     "output_type": "execute_result"
    }
   ],
   "source": [
    "cluster_center=model.cluster_centers_\n",
    "cluster_center"
   ]
  },
  {
   "cell_type": "code",
   "execution_count": 8,
   "metadata": {},
   "outputs": [
    {
     "name": "stderr",
     "output_type": "stream",
     "text": [
      "/var/folders/y2/1ryhhhy96d560tbg4y234c380000gn/T/ipykernel_81331/103833291.py:22: RuntimeWarning: invalid value encountered in divide\n",
      "  vector /= count\n"
     ]
    }
   ],
   "source": [
    "# DBSCAN\n",
    "reviews=[]\n",
    "for i in df['Reviews']:\n",
    "    reviews.append(str(i).split())\n",
    "import gensim\n",
    "# Use vector_size instead of size\n",
    "w2v_model = gensim.models.Word2Vec(reviews, vector_size=100, workers=4)\n",
    "\n",
    "\n",
    "import numpy as np\n",
    "vectors = []\n",
    "for i in reviews:\n",
    "    vector = np.zeros(100)\n",
    "    count = 0\n",
    "    for word in i:\n",
    "        try:\n",
    "            vec = w2v_model.wv[word]\n",
    "            vector += vec\n",
    "            count += 1\n",
    "        except:\n",
    "            pass\n",
    "    vector /= count\n",
    "    vectors.append(vector)\n",
    "vectors = np.array(vectors)\n",
    "vectors = np.nan_to_num(vectors)"
   ]
  },
  {
   "cell_type": "code",
   "execution_count": 9,
   "metadata": {},
   "outputs": [
    {
     "data": {
      "text/plain": [
       "(413840, 100)"
      ]
     },
     "execution_count": 9,
     "metadata": {},
     "output_type": "execute_result"
    }
   ],
   "source": [
    "from sklearn.cluster import DBSCAN\n",
    "minPts = 2 * 100\n",
    "# Lower bound function\n",
    "def lower_bound(nums, target):\n",
    "    l, r = 0, len(nums) - 1\n",
    "    # Binary searching\n",
    "    while l <= r:\n",
    "        mid = int(l + (r - l) / 2)\n",
    "        if nums[mid] >= target:\n",
    "            r = mid - 1\n",
    "        else:\n",
    "            l = mid + 1\n",
    "    return l\n",
    "\n",
    "def compute200thnearestneighbour(x, data):\n",
    "    dists = []\n",
    "    for val in data:\n",
    "      # computing distances\n",
    "        dist = np.sum((x - val) **2 )\n",
    "        if(len(dists) == 200 and dists[199] > dist):\n",
    "            l = int(lower_bound(dists, dist))\n",
    "            if l < 200 and l >= 0 and dists[l] > dist:\n",
    "                dists[l] = dist\n",
    "        else:\n",
    "            dists.append(dist)\n",
    "            dists.sort()\n",
    "\n",
    "# Dist 199 contains the distance of 200th nearest neighbour.\n",
    "    return dists[199]\n",
    "\n",
    "vectors.shape"
   ]
  },
  {
   "cell_type": "code",
   "execution_count": 10,
   "metadata": {},
   "outputs": [],
   "source": [
    "# Computing the 200th nearest neighbour distance of some point the dataset:\n",
    "twohundrethneigh = []\n",
    "for val in vectors[:1000]:\n",
    "    twohundrethneigh.append( compute200thnearestneighbour(val, vectors[:1000]) )\n",
    "twohundrethneigh.sort()"
   ]
  },
  {
   "cell_type": "code",
   "execution_count": 11,
   "metadata": {},
   "outputs": [
    {
     "data": {
      "image/png": "[encoded data removed]",
      "text/plain": [
       "<Figure size 1400x400 with 1 Axes>"
      ]
     },
     "metadata": {},
     "output_type": "display_data"
    }
   ],
   "source": [
    "# Plotting for the Elbow Method :\n",
    "%matplotlib inline\n",
    "from matplotlib import pyplot as plt\n",
    "plt.figure(figsize=(14,4))\n",
    "plt.title(\"Elbow Method for Finding the right Eps hyperparameter\")\n",
    "plt.plot([x for x in range(len(twohundrethneigh))], twohundrethneigh)\n",
    "plt.xlabel(\"Number of points\")\n",
    "plt.ylabel(\"Distance of 200th Nearest Neighbour\")\n",
    "plt.show()"
   ]
  },
  {
   "cell_type": "markdown",
   "metadata": {
    "id": "uDoQG2gqn_fp"
   },
   "source": [
    "In one paragraph, please compare the results of K-means, DBSCAN, Hierarchical clustering, Word2Vec, and BERT."
   ]
  },
  {
   "cell_type": "code",
   "execution_count": 15,
   "metadata": {
    "id": "8xdYZ6fpn_fp"
   },
   "outputs": [
    {
     "data": {
      "text/plain": [
       "'\\nThe results from the different machine learning models and clustering techniques show varying levels of \\nperformance on the given classification task. K-Means achieved an accuracy of 50.08%, indicating poor performance, \\nlikely due to the simplicity of the algorithm and its assumption of spherical clusters. DBSCAN, with an accuracy of 65.19%, \\nperformed better but struggled with precision and recall for the minority class. Hierarchical clustering, while leading to \\na kernel crash, suggests that it might not be the most suitable method for this dataset. Word2Vec, a word \\nembedding technique, yielded an accuracy of 80.12%, showcasing its effectiveness in capturing semantic \\nrelationships in the text. BERT, a state-of-the-art language model, achieved the highest accuracy at 79.63%, \\ndemonstrating its superior ability to understand the context and nuances of the reviews. \\nIn summary, K-Means and DBSCAN may not be well-suited for this task, while hierarchical clustering encountered computational issues. \\nWord2Vec and BERT, leveraging deep learning techniques, outperformed traditional clustering algorithms, with BERT exhibiting the best performance.\\n\\n'"
      ]
     },
     "execution_count": 15,
     "metadata": {},
     "output_type": "execute_result"
    }
   ],
   "source": [
    "#You can write you answer here. (No code needed)\n",
    "\"\"\"\n",
    "The results from the different machine learning models and clustering techniques show varying levels of \n",
    "performance on the given classification task. K-Means achieved an accuracy of 50.08%, indicating poor performance, \n",
    "likely due to the simplicity of the algorithm and its assumption of spherical clusters. DBSCAN, with an accuracy of 65.19%, \n",
    "performed better but struggled with precision and recall for the minority class. Hierarchical clustering, while leading to \n",
    "a kernel crash, suggests that it might not be the most suitable method for this dataset. Word2Vec, a word \n",
    "embedding technique, yielded an accuracy of 80.12%, showcasing its effectiveness in capturing semantic \n",
    "relationships in the text. BERT, a state-of-the-art language model, achieved the highest accuracy at 79.63%, \n",
    "demonstrating its superior ability to understand the context and nuances of the reviews. \n",
    "In summary, K-Means and DBSCAN may not be well-suited for this task, while hierarchical clustering encountered computational issues. \n",
    "Word2Vec and BERT, leveraging deep learning techniques, outperformed traditional clustering algorithms, with BERT exhibiting the best performance.\n",
    "\n",
    "\"\"\""
   ]
  },
  {
   "cell_type": "code",
   "execution_count": null,
   "metadata": {},
   "outputs": [],
   "source": []
  }
 ],
 "metadata": {
  "accelerator": "TPU",
  "colab": {
   "provenance": []
  },
  "kernelspec": {
   "display_name": "Python 3 (ipykernel)",
   "language": "python",
   "name": "python3"
  },
  "language_info": {
   "codemirror_mode": {
    "name": "ipython",
    "version": 3
   },
   "file_extension": ".py",
   "mimetype": "text/x-python",
   "name": "python",
   "nbconvert_exporter": "python",
   "pygments_lexer": "ipython3",
   "version": "3.9.13"
  }
 },
 "nbformat": 4,
 "nbformat_minor": 1
}
